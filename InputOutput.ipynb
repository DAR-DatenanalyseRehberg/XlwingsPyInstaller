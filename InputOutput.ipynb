{
 "cells": [
  {
   "cell_type": "code",
   "execution_count": null,
   "metadata": {},
   "outputs": [],
   "source": [
    "#pip install xlwings"
   ]
  },
  {
   "cell_type": "code",
   "execution_count": 16,
   "metadata": {},
   "outputs": [
    {
     "name": "stdout",
     "output_type": "stream",
     "text": [
      "Collecting pyinstaller\n",
      "  Downloading https://files.pythonhosted.org/packages/b4/83/9f6ff034650abe9778c9a4f86bcead63f89a62acf02b1b47fc2bfc6bf8dd/pyinstaller-4.2.tar.gz (3.6MB)\n",
      "  Installing build dependencies: started\n",
      "  Installing build dependencies: finished with status 'done'\n",
      "  Getting requirements to build wheel: started\n",
      "  Getting requirements to build wheel: finished with status 'done'\n",
      "    Preparing wheel metadata: started\n",
      "    Preparing wheel metadata: finished with status 'done'\n",
      "Requirement already satisfied: importlib-metadata; python_version < \"3.8\" in c:\\users\\jesko\\anaconda3\\lib\\site-packages (from pyinstaller) (0.17)\n",
      "Collecting pywin32-ctypes>=0.2.0; sys_platform == \"win32\" (from pyinstaller)\n",
      "  Downloading https://files.pythonhosted.org/packages/9e/4b/3ab2720f1fa4b4bc924ef1932b842edf10007e4547ea8157b0b9fc78599a/pywin32_ctypes-0.2.0-py2.py3-none-any.whl\n",
      "Collecting altgraph (from pyinstaller)\n",
      "  Downloading https://files.pythonhosted.org/packages/ee/3d/bfca21174b162f6ce674953f1b7a640c1498357fa6184776029557c25399/altgraph-0.17-py2.py3-none-any.whl\n",
      "Requirement already satisfied: setuptools in c:\\users\\jesko\\anaconda3\\lib\\site-packages (from pyinstaller) (41.0.1)\n",
      "Collecting pefile>=2017.8.1; sys_platform == \"win32\" (from pyinstaller)\n",
      "  Downloading https://files.pythonhosted.org/packages/36/58/acf7f35859d541985f0a6ea3c34baaefbfaee23642cf11e85fe36453ae77/pefile-2019.4.18.tar.gz (62kB)\n",
      "Collecting pyinstaller-hooks-contrib>=2020.6 (from pyinstaller)\n",
      "  Downloading https://files.pythonhosted.org/packages/a4/11/90ac24147907d9b7302983ec66ae46b045b47212906101cc82d9204c798d/pyinstaller_hooks_contrib-2020.11-py2.py3-none-any.whl (172kB)\n",
      "Requirement already satisfied: zipp>=0.5 in c:\\users\\jesko\\anaconda3\\lib\\site-packages (from importlib-metadata; python_version < \"3.8\"->pyinstaller) (0.5.1)\n",
      "Requirement already satisfied: future in c:\\users\\jesko\\anaconda3\\lib\\site-packages (from pefile>=2017.8.1; sys_platform == \"win32\"->pyinstaller) (0.17.1)\n",
      "Building wheels for collected packages: pyinstaller\n",
      "  Building wheel for pyinstaller (PEP 517): started\n",
      "  Building wheel for pyinstaller (PEP 517): finished with status 'done'\n",
      "  Stored in directory: C:\\Users\\jesko\\AppData\\Local\\pip\\Cache\\wheels\\00\\ef\\fa\\4c7b8a4361b1758032165de6e0874da41975479142a86570ef\n",
      "Successfully built pyinstaller\n",
      "Building wheels for collected packages: pefile\n",
      "  Building wheel for pefile (setup.py): started\n",
      "  Building wheel for pefile (setup.py): finished with status 'done'\n",
      "  Stored in directory: C:\\Users\\jesko\\AppData\\Local\\pip\\Cache\\wheels\\1c\\a1\\95\\4f33011a0c013c872fe6f0f364dc463a2588120820e40a30d8\n",
      "Successfully built pefile\n",
      "Installing collected packages: pywin32-ctypes, altgraph, pefile, pyinstaller-hooks-contrib, pyinstaller\n",
      "Successfully installed altgraph-0.17 pefile-2019.4.18 pyinstaller-4.2 pyinstaller-hooks-contrib-2020.11 pywin32-ctypes-0.2.0\n",
      "Note: you may need to restart the kernel to use updated packages.\n"
     ]
    }
   ],
   "source": [
    "#pip install pyinstaller"
   ]
  },
  {
   "cell_type": "code",
   "execution_count": 13,
   "metadata": {},
   "outputs": [],
   "source": [
    "#import xlwings as xw\n",
    "#df = pd.read_excel('InputOutput.xlsm')\n",
    "#xw.view(df)"
   ]
  },
  {
   "cell_type": "code",
   "execution_count": 14,
   "metadata": {},
   "outputs": [],
   "source": [
    "# viewing the dataframe via Xlwings directly in Excel can be very supportive, especially if you want to easily check lots of calculations\n",
    "#df['Total']=(df['Column A']+df['Column B'] + df['Column C']) \n",
    "#xw.view(df)   "
   ]
  },
  {
   "cell_type": "code",
   "execution_count": 15,
   "metadata": {},
   "outputs": [],
   "source": [
    "# Make sure that this Jupyter Notebook is working. Make sure, that the Excel file is located in the same path as this file\n",
    "\n",
    "import pandas as pd\n",
    "import xlwings as xw\n",
    "def main():\n",
    "    wb = xw.Book.caller()\n",
    "    sht = wb.sheets['Input']\n",
    "    df = sht.range('A1').options(pd.DataFrame, header=1, index=False, expand='table').value\n",
    "    counter = []\n",
    "# add Counter starting from one until max counter is reached \n",
    "    for index, row in df.iterrows():\n",
    "        for x in range(int(row['Counter'])):\n",
    "            counter.append(x+1)\n",
    "# duplicate the rows according to Item specific max counter\n",
    "    df = df.loc[df.index.repeat(df.Counter)]\n",
    "# Add the counter number per row\n",
    "    df['CounterDuplRow'] = counter\n",
    "    df['Total']=(df['Column A']+df['Column B'] + df['Column C']) *df['CounterDuplRow']\n",
    "    df2 = df.sort_values(\"Total\").groupby(\"Item\", as_index=False).last()\n",
    "    shtout = wb.sheets['Output']\n",
    "    shtout.range('a1').options(pd.DataFrame, index=False).value = df2\n",
    "@xw.func\n",
    "def hello(name):\n",
    "    return f\"Hello {name}!\"\n",
    "if __name__ == \"__main__\":\n",
    "    xw.Book(\"InputOutput.xlsm\").set_mock_caller()\n",
    "    main()\n",
    "# in case this Jupyter Notebook is working well, you can download it as a Python file (.py)\n",
    "# to do so, just click on \"file\" in the menu above and choose \"download as py\""
   ]
  },
  {
   "cell_type": "code",
   "execution_count": null,
   "metadata": {},
   "outputs": [],
   "source": []
  }
 ],
 "metadata": {
  "kernelspec": {
   "display_name": "Python 3",
   "language": "python",
   "name": "python3"
  },
  "language_info": {
   "codemirror_mode": {
    "name": "ipython",
    "version": 3
   },
   "file_extension": ".py",
   "mimetype": "text/x-python",
   "name": "python",
   "nbconvert_exporter": "python",
   "pygments_lexer": "ipython3",
   "version": "3.7.3"
  }
 },
 "nbformat": 4,
 "nbformat_minor": 2
}
